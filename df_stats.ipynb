{
 "cells": [
  {
   "cell_type": "code",
   "execution_count": 1,
   "id": "dbce56d7-4d14-47bc-a9a4-e1e93eb1cae4",
   "metadata": {
    "tags": []
   },
   "outputs": [],
   "source": [
    "# loading packages \n",
    "import pandas as pd\n",
    "import numpy as np\n",
    "import matplotlib.pyplot as plt"
   ]
  },
  {
   "cell_type": "code",
   "execution_count": 3,
   "id": "9b3462ac-c433-4f3e-a9c4-11a527b8d60e",
   "metadata": {
    "tags": []
   },
   "outputs": [
    {
     "name": "stdout",
     "output_type": "stream",
     "text": [
      "<class 'pandas.core.frame.DataFrame'>\n",
      "RangeIndex: 703560 entries, 0 to 703559\n",
      "Data columns (total 18 columns):\n",
      " #   Column  Non-Null Count   Dtype  \n",
      "---  ------  --------------   -----  \n",
      " 0   perso   703560 non-null  object \n",
      " 1   kart    703560 non-null  object \n",
      " 2   wheels  703560 non-null  object \n",
      " 3   glider  703560 non-null  object \n",
      " 4   WG      703560 non-null  float64\n",
      " 5   AC      703560 non-null  float64\n",
      " 6   ON      703560 non-null  float64\n",
      " 7   OF      703560 non-null  float64\n",
      " 8   MT      703560 non-null  float64\n",
      " 9   SL      703560 non-null  float64\n",
      " 10  SW      703560 non-null  float64\n",
      " 11  SA      703560 non-null  float64\n",
      " 12  SG      703560 non-null  float64\n",
      " 13  TL      703560 non-null  float64\n",
      " 14  TW      703560 non-null  float64\n",
      " 15  TA      703560 non-null  float64\n",
      " 16  TG      703560 non-null  float64\n",
      " 17  IV      703560 non-null  float64\n",
      "dtypes: float64(14), object(4)\n",
      "memory usage: 96.6+ MB\n"
     ]
    }
   ],
   "source": [
    "# loading data file \n",
    "df = pd.read_csv('mk8_df.csv')\n",
    "df.info()"
   ]
  },
  {
   "cell_type": "code",
   "execution_count": 17,
   "id": "cf202ff8-8f7e-4d70-ab8a-1d19b506df11",
   "metadata": {
    "tags": []
   },
   "outputs": [],
   "source": [
    "# renaming columns \n",
    "df_renamed = df.rename(columns={'WG':'weight', 'AC':'acceleration', 'ON':'onroad_traction', 'OF':'traction', \n",
    "                                'MT':'mini_turbo', 'SL':'speed', 'SW':'water_speed' , 'SA':'antigravity_speed',\n",
    "                                'SG':'air_speed', 'TL':'handling', 'TW':'water_handling', 'TA':'antigravity_handling', \n",
    "                                'TG':'air_handling', 'IV':'invincibility'})"
   ]
  },
  {
   "cell_type": "code",
   "execution_count": 18,
   "id": "df76fff1-d7d3-4413-b7c8-9f820a13360f",
   "metadata": {
    "tags": []
   },
   "outputs": [
    {
     "data": {
      "text/plain": [
       "Index(['Mario', 'Luigi', 'Morton', 'Mii', 'Tanooki_Mario', 'Link',\n",
       "       'Villager_boy', 'Isabelle', 'Cat_Peach', 'Dry_Bowser', 'Villager_girl',\n",
       "       'Gold_Mario', 'Dry_Bones', 'Bozser_Jr', 'King_Boo', 'Inkling_Girl',\n",
       "       'Inkling_Boy', 'Link_BOTWild', 'Birdo', 'Kamek', 'Petey_Piranha',\n",
       "       'Wiggler', 'Diddy_Kong', 'Funky_Kong', 'Peachette', 'Roy_Roy', 'Iggy',\n",
       "       'Ludwig', 'Rosalina', 'Peach', 'Daisy', 'Yoshi', 'Toad', 'Toadette',\n",
       "       'Koopa_Troopa', 'Bowser', 'Donkey_Kong', 'Wario', 'Waluigi',\n",
       "       'Metal_Mario', 'Wendy', 'Pink_Gold_Peach', 'Lakitu', 'Shy_Guy',\n",
       "       'Baby_Mario', 'Baby_Luigi', 'Baby_Peach', 'Baby_Daisy', 'Baby_Rosalina',\n",
       "       'Larry', 'Lemmy', 'Pauline'],\n",
       "      dtype='object')"
      ]
     },
     "execution_count": 18,
     "metadata": {},
     "output_type": "execute_result"
    }
   ],
   "source": [
    "# renaming perso names  \n",
    "df_renamed['perso'] = df_renamed.perso.replace({'Mario Mro' : 'Mario',\n",
    "                          'Luigi Lig' : 'Luigi',\n",
    "                          'Morton Mtn' : 'Morton',\n",
    "                          'Mii (medium) MiiM 2 3' : 'Mii',\n",
    "                          'Tanooki Mario MroT' : 'Tanooki_Mario', \n",
    "                          'Link Lnk' : 'Link',\n",
    "                          'Villager (male) Mrb' : 'Villager_boy', \n",
    "                          'Isabelle Shz' : 'Isabelle', \n",
    "                          'Cat Peach PchC' : 'Cat_Peach', \n",
    "                          'Dry Bowser KopB 3' : 'Dry_Bowser',\n",
    "                          'Villager (female) Mrg' : 'Villager_girl',\n",
    "                          'Gold Mario MroG' : 'Gold_Mario',\n",
    "                          'Dry Bones Krn' : 'Dry_Bones',\n",
    "                          'Bowser Jr. KopJ' : 'Bozser_Jr',\n",
    "                          'King Boo Ktr' : 'King_Boo',\n",
    "                          'Inkling Girl Spg 1' : 'Inkling_Girl',\n",
    "                          'Inkling Boy Spb 1' : 'Inkling_Boy',\n",
    "                          'Link (Breath of the Wild)' : 'Link_BOTWild',\n",
    "                          'Birdo 1' : 'Birdo',\n",
    "                          'Kamek' : 'Kamek',\n",
    "                          'Petey Piranha' : 'Petey_Piranha',\n",
    "                          'Wiggler' : 'Wiggler',\n",
    "                          'Diddy Kong' : 'Diddy_Kong',\n",
    "                          'Funky Kong' : 'Funky_Kong',\n",
    "                          'Peachette' : 'Peachette',\n",
    "                          'Roy Roy' : 'Roy_Roy',\n",
    "                          'Iggy Igy' : 'Iggy',\n",
    "                          'Ludwig Ldw' : 'Ludwig',\n",
    "                          'Rosalina Rst' : 'Rosalina',\n",
    "                          'Peach Pch' : 'Peach',\n",
    "                          'Daisy Dsy' : 'Daisy',\n",
    "                          'Yoshi Ysi 1' : 'Yoshi',\n",
    "                          'Toad Kno' : 'Toad',\n",
    "                          'Toadette Knc' : 'Toadette',\n",
    "                          'Koopa Troopa Nok' : 'Koopa_Troopa',\n",
    "                          'Bowser Kop' : 'Bowser',\n",
    "                          'Donkey Kong Dkg' : 'Donkey_Kong',\n",
    "                          'Wario Wro' : 'Wario',\n",
    "                          'Waluigi Wlg' : 'Waluigi',\n",
    "                          'Metal Mario MroM' : 'Metal_Mario',\n",
    "                          'Wendy Wdy' : 'Wendy',\n",
    "                          'Pink Gold Peach PchG' : 'Pink_Gold_Peach',\n",
    "                          'Lakitu Jgm' : 'Lakitu',\n",
    "                          'Shy Guy Hyh 1' : 'Shy_Guy',\n",
    "                          'Baby Mario MroB 2' : 'Baby_Mario',\n",
    "                          'Baby Luigi LigB' : 'Baby_Luigi',\n",
    "                          'Baby Peach PchB' : 'Baby_Peach',\n",
    "                          'Baby Daisy DsyB' : 'Baby_Daisy',\n",
    "                          'Baby Rosalina RstB' : 'Baby_Rosalina',\n",
    "                          'Larry Lry' : 'Larry',\n",
    "                          'Lemmy Lmy' : 'Lemmy',\n",
    "                          'Pauline' : 'Pauline'})\n",
    "\n",
    "df_renamed.perso.value_counts().index"
   ]
  },
  {
   "cell_type": "code",
   "execution_count": 24,
   "id": "0e6ef4e9-5d48-4118-bd5a-a96e9c4fb4c5",
   "metadata": {
    "tags": []
   },
   "outputs": [
    {
     "data": {
      "text/plain": [
       "Index(['Standard_Kart', 'Jet_Bike', 'Standard_ATV', 'Wild_Wiggler',\n",
       "       'Teddy_Buggy', 'GLA', 'W_25_Silver_Arrow', '300_SL_Roadster',\n",
       "       'Blue_Falcon', 'Tanooki_Kart', 'B_Dasher', 'Master_Cycle', 'Streetle',\n",
       "       'P-Wing', 'City_Tripper', 'Bone_Rattler', 'Koopa_Clown', 'Splat_Buggy',\n",
       "       'Instriker', 'Yoshi_Bike', 'Mr_Scooty', 'Pipe_Frame', 'Varmint',\n",
       "       'Mach 8', 'Steel_Driver', 'Cat_Cruiser', 'Circuit_Special',\n",
       "       'Tri_Speeder', 'Badwagon', 'Prancer', 'Biddybuggy', 'Landship',\n",
       "       'Sneeker_Bounder', 'Sports_Coupe', 'Gold_Standard', 'Standard_Bike',\n",
       "       'Comet', 'Sport_Bike', 'The_Duke', 'Flame_Rider', 'Master_Cycle_Zero'],\n",
       "      dtype='object')"
      ]
     },
     "execution_count": 24,
     "metadata": {},
     "output_type": "execute_result"
    }
   ],
   "source": [
    "# renaming kart names  \n",
    "df_renamed['kart'] = df_renamed.kart.replace({'Standard Kart' : 'Standard_Kart', \n",
    "                                              'Jet Bike' : 'Jet_Bike', \n",
    "                                              'Standard ATV Standard Quad' : 'Standard_ATV',\n",
    "                                              'Wild Wiggler' : 'Wild_Wiggler', \n",
    "                                              'Teddy Buggy' : 'Teddy_Buggy', \n",
    "                                              'GLA' : 'GLA', \n",
    "                                              'W 25 Silver Arrow' : 'W_25_Silver_Arrow',\n",
    "                                              '300 SL Roadster' : '300_SL_Roadster', \n",
    "                                              'Blue Falcon' : 'Blue_Falcon', \n",
    "                                              'Tanooki Kart' : 'Tanooki_Kart', \n",
    "                                              'B Dasher' : 'B_Dasher',\n",
    "                                              'Master Cycle' : 'Master_Cycle', \n",
    "                                              'Streetle' : 'Streetle', \n",
    "                                              'P-Wing' : 'P-Wing', \n",
    "                                              'City Tripper' : 'City_Tripper', \n",
    "                                              'Bone Rattler' : 'Bone_Rattler',\n",
    "                                              'Koopa Clown' : 'Koopa_Clown', \n",
    "                                              'Splat Buggy' : 'Splat_Buggy', \n",
    "                                              'Inkstriker' : 'Instriker', \n",
    "                                              'Yoshi Bike' : 'Yoshi_Bike',\n",
    "                                              'Mr. Scooty Mr Scooty' : 'Mr_Scooty', \n",
    "                                              'Pipe Frame' : 'Pipe_Frame', \n",
    "                                              'Varmint' : 'Varmint', \n",
    "                                              'Mach 8' : 'Mach 8',\n",
    "                                              'Steel Driver' : 'Steel_Driver', \n",
    "                                              'Cat Cruiser' : 'Cat_Cruiser', \n",
    "                                              'Circuit Special' : 'Circuit_Special', \n",
    "                                              'Tri-Speeder' : 'Tri_Speeder',\n",
    "                                              'Badwagon' : 'Badwagon', \n",
    "                                              'Prancer' : 'Prancer', \n",
    "                                              'Biddybuggy Buggybud' : 'Biddybuggy', \n",
    "                                              'Landship' : 'Landship',\n",
    "                                              'Sneeker Bounder' : 'Sneeker_Bounder', \n",
    "                                              'Sports Coupe Sports Coupé' : 'Sports_Coupe',\n",
    "                                              'Gold Standard Gold Kart' : 'Gold_Standard', \n",
    "                                              'Standard Bike' : 'Standard_Bike', \n",
    "                                              'Comet' : 'Comet', \n",
    "                                              'Sport Bike' : 'Sport_Bike',\n",
    "                                              'The Duke' : 'The_Duke', \n",
    "                                              'Flame Rider' : 'Flame_Rider', \n",
    "                                              'Master Cycle Zero' : 'Master_Cycle_Zero'})\n",
    "\n",
    "df_renamed.kart.value_counts().index"
   ]
  },
  {
   "cell_type": "code",
   "execution_count": 22,
   "id": "d146bf6c-7b08-41e2-a65f-e91294a21413",
   "metadata": {
    "tags": []
   },
   "outputs": [
    {
     "data": {
      "text/plain": [
       "Index(['Standard Kart', 'Jet Bike', 'Standard ATV Standard Quad',\n",
       "       'Wild Wiggler', 'Teddy Buggy', 'GLA', 'W 25 Silver Arrow',\n",
       "       '300 SL Roadster', 'Blue Falcon', 'Tanooki Kart', 'B Dasher',\n",
       "       'Master Cycle', 'Streetle', 'P-Wing', 'City Tripper', 'Bone Rattler',\n",
       "       'Koopa Clown', 'Splat Buggy', 'Inkstriker', 'Yoshi Bike',\n",
       "       'Mr. Scooty Mr Scooty', 'Pipe Frame', 'Varmint', 'Mach 8',\n",
       "       'Steel Driver', 'Cat Cruiser', 'Circuit Special', 'Tri-Speeder',\n",
       "       'Badwagon', 'Prancer', 'Biddybuggy Buggybud', 'Landship',\n",
       "       'Sneeker Bounder', 'Sports Coupe Sports Coupé',\n",
       "       'Gold Standard Gold Kart', 'Standard Bike', 'Comet', 'Sport Bike',\n",
       "       'The Duke', 'Flame Rider', 'Master Cycle Zero'],\n",
       "      dtype='object')"
      ]
     },
     "execution_count": 22,
     "metadata": {},
     "output_type": "execute_result"
    }
   ],
   "source": [
    "df_renamed.kart.value_counts().index"
   ]
  },
  {
   "cell_type": "code",
   "execution_count": 57,
   "id": "49ff82ac-fbec-4048-b0aa-5604a276348f",
   "metadata": {
    "tags": []
   },
   "outputs": [],
   "source": [
    "# selecting columns of interest \n",
    "df_sorted = df_renamed[['perso','kart','wheels','glider','weight','acceleration','traction','mini_turbo','speed','handling','invincibility']]"
   ]
  },
  {
   "cell_type": "code",
   "execution_count": 31,
   "id": "7ba2bfa0-784a-4b5f-812e-6fec056178ee",
   "metadata": {
    "tags": []
   },
   "outputs": [
    {
     "data": {
      "text/html": [
       "<div>\n",
       "<style scoped>\n",
       "    .dataframe tbody tr th:only-of-type {\n",
       "        vertical-align: middle;\n",
       "    }\n",
       "\n",
       "    .dataframe tbody tr th {\n",
       "        vertical-align: top;\n",
       "    }\n",
       "\n",
       "    .dataframe thead th {\n",
       "        text-align: right;\n",
       "    }\n",
       "</style>\n",
       "<table border=\"1\" class=\"dataframe\">\n",
       "  <thead>\n",
       "    <tr style=\"text-align: right;\">\n",
       "      <th></th>\n",
       "      <th>weight</th>\n",
       "      <th>acceleration</th>\n",
       "      <th>traction</th>\n",
       "      <th>mini_turbo</th>\n",
       "      <th>speed</th>\n",
       "      <th>handling</th>\n",
       "      <th>invincibility</th>\n",
       "    </tr>\n",
       "  </thead>\n",
       "  <tbody>\n",
       "    <tr>\n",
       "      <th>count</th>\n",
       "      <td>703560.000000</td>\n",
       "      <td>703560.000000</td>\n",
       "      <td>703560.000000</td>\n",
       "      <td>703560.000000</td>\n",
       "      <td>703560.000000</td>\n",
       "      <td>703560.000000</td>\n",
       "      <td>703560.000000</td>\n",
       "    </tr>\n",
       "    <tr>\n",
       "      <th>mean</th>\n",
       "      <td>3.305528</td>\n",
       "      <td>3.353794</td>\n",
       "      <td>3.325988</td>\n",
       "      <td>3.946985</td>\n",
       "      <td>3.724099</td>\n",
       "      <td>3.535466</td>\n",
       "      <td>3.783529</td>\n",
       "    </tr>\n",
       "    <tr>\n",
       "      <th>std</th>\n",
       "      <td>0.921570</td>\n",
       "      <td>0.787137</td>\n",
       "      <td>0.833162</td>\n",
       "      <td>0.595267</td>\n",
       "      <td>0.813498</td>\n",
       "      <td>0.805708</td>\n",
       "      <td>0.716861</td>\n",
       "    </tr>\n",
       "    <tr>\n",
       "      <th>min</th>\n",
       "      <td>0.750000</td>\n",
       "      <td>1.000000</td>\n",
       "      <td>0.750000</td>\n",
       "      <td>2.250000</td>\n",
       "      <td>1.000000</td>\n",
       "      <td>1.000000</td>\n",
       "      <td>1.000000</td>\n",
       "    </tr>\n",
       "    <tr>\n",
       "      <th>25%</th>\n",
       "      <td>2.500000</td>\n",
       "      <td>2.750000</td>\n",
       "      <td>2.750000</td>\n",
       "      <td>3.500000</td>\n",
       "      <td>3.250000</td>\n",
       "      <td>3.000000</td>\n",
       "      <td>3.250000</td>\n",
       "    </tr>\n",
       "    <tr>\n",
       "      <th>50%</th>\n",
       "      <td>3.250000</td>\n",
       "      <td>3.250000</td>\n",
       "      <td>3.250000</td>\n",
       "      <td>4.000000</td>\n",
       "      <td>3.750000</td>\n",
       "      <td>3.500000</td>\n",
       "      <td>3.750000</td>\n",
       "    </tr>\n",
       "    <tr>\n",
       "      <th>75%</th>\n",
       "      <td>4.000000</td>\n",
       "      <td>4.000000</td>\n",
       "      <td>4.000000</td>\n",
       "      <td>4.250000</td>\n",
       "      <td>4.250000</td>\n",
       "      <td>4.000000</td>\n",
       "      <td>4.250000</td>\n",
       "    </tr>\n",
       "    <tr>\n",
       "      <th>max</th>\n",
       "      <td>5.750000</td>\n",
       "      <td>5.750000</td>\n",
       "      <td>5.750000</td>\n",
       "      <td>5.750000</td>\n",
       "      <td>5.750000</td>\n",
       "      <td>5.750000</td>\n",
       "      <td>5.750000</td>\n",
       "    </tr>\n",
       "  </tbody>\n",
       "</table>\n",
       "</div>"
      ],
      "text/plain": [
       "              weight   acceleration       traction     mini_turbo  \\\n",
       "count  703560.000000  703560.000000  703560.000000  703560.000000   \n",
       "mean        3.305528       3.353794       3.325988       3.946985   \n",
       "std         0.921570       0.787137       0.833162       0.595267   \n",
       "min         0.750000       1.000000       0.750000       2.250000   \n",
       "25%         2.500000       2.750000       2.750000       3.500000   \n",
       "50%         3.250000       3.250000       3.250000       4.000000   \n",
       "75%         4.000000       4.000000       4.000000       4.250000   \n",
       "max         5.750000       5.750000       5.750000       5.750000   \n",
       "\n",
       "               speed       handling  invincibility  \n",
       "count  703560.000000  703560.000000  703560.000000  \n",
       "mean        3.724099       3.535466       3.783529  \n",
       "std         0.813498       0.805708       0.716861  \n",
       "min         1.000000       1.000000       1.000000  \n",
       "25%         3.250000       3.000000       3.250000  \n",
       "50%         3.750000       3.500000       3.750000  \n",
       "75%         4.250000       4.000000       4.250000  \n",
       "max         5.750000       5.750000       5.750000  "
      ]
     },
     "execution_count": 31,
     "metadata": {},
     "output_type": "execute_result"
    }
   ],
   "source": [
    "df_sorted.describe()"
   ]
  },
  {
   "cell_type": "code",
   "execution_count": 34,
   "id": "c4555bb5-0d7d-4905-bc20-5103a92f4b2e",
   "metadata": {
    "tags": []
   },
   "outputs": [
    {
     "data": {
      "image/png": "[encoded data removed]",
      "text/plain": [
       "<Figure size 640x480 with 9 Axes>"
      ]
     },
     "metadata": {},
     "output_type": "display_data"
    }
   ],
   "source": [
    "df_sorted.hist(bins=30);"
   ]
  },
  {
   "cell_type": "code",
   "execution_count": 35,
   "id": "b229bfb0-fc21-441a-b108-2a2847c27255",
   "metadata": {
    "tags": []
   },
   "outputs": [
    {
     "data": {
      "text/html": [
       "<div>\n",
       "<style scoped>\n",
       "    .dataframe tbody tr th:only-of-type {\n",
       "        vertical-align: middle;\n",
       "    }\n",
       "\n",
       "    .dataframe tbody tr th {\n",
       "        vertical-align: top;\n",
       "    }\n",
       "\n",
       "    .dataframe thead th {\n",
       "        text-align: right;\n",
       "    }\n",
       "</style>\n",
       "<table border=\"1\" class=\"dataframe\">\n",
       "  <thead>\n",
       "    <tr style=\"text-align: right;\">\n",
       "      <th></th>\n",
       "      <th>weight</th>\n",
       "      <th>acceleration</th>\n",
       "      <th>traction</th>\n",
       "      <th>mini_turbo</th>\n",
       "      <th>speed</th>\n",
       "      <th>handling</th>\n",
       "      <th>invincibility</th>\n",
       "    </tr>\n",
       "  </thead>\n",
       "  <tbody>\n",
       "    <tr>\n",
       "      <th>381144</th>\n",
       "      <td>5.75</td>\n",
       "      <td>1.75</td>\n",
       "      <td>3.25</td>\n",
       "      <td>2.50</td>\n",
       "      <td>5.25</td>\n",
       "      <td>1.25</td>\n",
       "      <td>5.25</td>\n",
       "    </tr>\n",
       "    <tr>\n",
       "      <th>120446</th>\n",
       "      <td>5.75</td>\n",
       "      <td>1.75</td>\n",
       "      <td>3.25</td>\n",
       "      <td>2.50</td>\n",
       "      <td>5.25</td>\n",
       "      <td>1.25</td>\n",
       "      <td>5.00</td>\n",
       "    </tr>\n",
       "    <tr>\n",
       "      <th>191426</th>\n",
       "      <td>5.75</td>\n",
       "      <td>2.00</td>\n",
       "      <td>3.50</td>\n",
       "      <td>2.75</td>\n",
       "      <td>4.75</td>\n",
       "      <td>2.00</td>\n",
       "      <td>4.75</td>\n",
       "    </tr>\n",
       "    <tr>\n",
       "      <th>502847</th>\n",
       "      <td>5.75</td>\n",
       "      <td>1.50</td>\n",
       "      <td>2.25</td>\n",
       "      <td>2.50</td>\n",
       "      <td>5.00</td>\n",
       "      <td>2.50</td>\n",
       "      <td>4.50</td>\n",
       "    </tr>\n",
       "    <tr>\n",
       "      <th>120449</th>\n",
       "      <td>5.75</td>\n",
       "      <td>1.75</td>\n",
       "      <td>3.25</td>\n",
       "      <td>2.50</td>\n",
       "      <td>5.25</td>\n",
       "      <td>1.25</td>\n",
       "      <td>5.00</td>\n",
       "    </tr>\n",
       "    <tr>\n",
       "      <th>...</th>\n",
       "      <td>...</td>\n",
       "      <td>...</td>\n",
       "      <td>...</td>\n",
       "      <td>...</td>\n",
       "      <td>...</td>\n",
       "      <td>...</td>\n",
       "      <td>...</td>\n",
       "    </tr>\n",
       "    <tr>\n",
       "      <th>116839</th>\n",
       "      <td>5.50</td>\n",
       "      <td>1.75</td>\n",
       "      <td>3.75</td>\n",
       "      <td>2.75</td>\n",
       "      <td>5.25</td>\n",
       "      <td>1.00</td>\n",
       "      <td>5.50</td>\n",
       "    </tr>\n",
       "    <tr>\n",
       "      <th>381228</th>\n",
       "      <td>5.50</td>\n",
       "      <td>1.00</td>\n",
       "      <td>2.75</td>\n",
       "      <td>2.25</td>\n",
       "      <td>5.75</td>\n",
       "      <td>1.50</td>\n",
       "      <td>5.75</td>\n",
       "    </tr>\n",
       "    <tr>\n",
       "      <th>116841</th>\n",
       "      <td>5.50</td>\n",
       "      <td>1.75</td>\n",
       "      <td>3.75</td>\n",
       "      <td>2.75</td>\n",
       "      <td>5.25</td>\n",
       "      <td>1.00</td>\n",
       "      <td>5.50</td>\n",
       "    </tr>\n",
       "    <tr>\n",
       "      <th>191723</th>\n",
       "      <td>5.50</td>\n",
       "      <td>2.25</td>\n",
       "      <td>3.50</td>\n",
       "      <td>3.00</td>\n",
       "      <td>4.50</td>\n",
       "      <td>2.00</td>\n",
       "      <td>4.25</td>\n",
       "    </tr>\n",
       "    <tr>\n",
       "      <th>115904</th>\n",
       "      <td>5.50</td>\n",
       "      <td>1.25</td>\n",
       "      <td>2.00</td>\n",
       "      <td>2.25</td>\n",
       "      <td>5.75</td>\n",
       "      <td>1.50</td>\n",
       "      <td>5.25</td>\n",
       "    </tr>\n",
       "  </tbody>\n",
       "</table>\n",
       "<p>730 rows × 7 columns</p>\n",
       "</div>"
      ],
      "text/plain": [
       "        weight  acceleration  traction  mini_turbo  speed  handling  \\\n",
       "381144    5.75          1.75      3.25        2.50   5.25      1.25   \n",
       "120446    5.75          1.75      3.25        2.50   5.25      1.25   \n",
       "191426    5.75          2.00      3.50        2.75   4.75      2.00   \n",
       "502847    5.75          1.50      2.25        2.50   5.00      2.50   \n",
       "120449    5.75          1.75      3.25        2.50   5.25      1.25   \n",
       "...        ...           ...       ...         ...    ...       ...   \n",
       "116839    5.50          1.75      3.75        2.75   5.25      1.00   \n",
       "381228    5.50          1.00      2.75        2.25   5.75      1.50   \n",
       "116841    5.50          1.75      3.75        2.75   5.25      1.00   \n",
       "191723    5.50          2.25      3.50        3.00   4.50      2.00   \n",
       "115904    5.50          1.25      2.00        2.25   5.75      1.50   \n",
       "\n",
       "        invincibility  \n",
       "381144           5.25  \n",
       "120446           5.00  \n",
       "191426           4.75  \n",
       "502847           4.50  \n",
       "120449           5.00  \n",
       "...               ...  \n",
       "116839           5.50  \n",
       "381228           5.75  \n",
       "116841           5.50  \n",
       "191723           4.25  \n",
       "115904           5.25  \n",
       "\n",
       "[730 rows x 7 columns]"
      ]
     },
     "execution_count": 35,
     "metadata": {},
     "output_type": "execute_result"
    }
   ],
   "source": [
    "df_sorted.sort_values(by=['weight'], ascending=False).head(730)"
   ]
  },
  {
   "cell_type": "code",
   "execution_count": 47,
   "id": "984b058d-fb7c-4faa-95e9-026a99d8585f",
   "metadata": {
    "tags": []
   },
   "outputs": [
    {
     "data": {
      "text/plain": [
       "57913"
      ]
     },
     "execution_count": 47,
     "metadata": {},
     "output_type": "execute_result"
    }
   ],
   "source": [
    "len(df_sorted[df_sorted['mini_turbo']==3.25])"
   ]
  },
  {
   "cell_type": "code",
   "execution_count": 48,
   "id": "3b4869b3-e1de-4b45-85ae-c9d696480556",
   "metadata": {
    "tags": []
   },
   "outputs": [
    {
     "data": {
      "text/plain": [
       "4.00    113851\n",
       "4.25    108021\n",
       "3.75    104298\n",
       "3.50     84359\n",
       "4.50     81123\n",
       "3.25     57913\n",
       "4.75     50277\n",
       "3.00     36090\n",
       "5.00     26482\n",
       "2.75     19697\n",
       "5.25     10230\n",
       "2.50      7411\n",
       "5.50      2324\n",
       "2.25      1260\n",
       "5.75       224\n",
       "Name: mini_turbo, dtype: int64"
      ]
     },
     "execution_count": 48,
     "metadata": {},
     "output_type": "execute_result"
    }
   ],
   "source": [
    "df_sorted['mini_turbo'].value_counts()"
   ]
  },
  {
   "cell_type": "code",
   "execution_count": 50,
   "id": "85cb368d-43bd-4a91-b257-156312aae9b8",
   "metadata": {
    "tags": []
   },
   "outputs": [
    {
     "data": {
      "text/plain": [
       "array([[<Axes: title={'center': 'weight'}>,\n",
       "        <Axes: title={'center': 'acceleration'}>,\n",
       "        <Axes: title={'center': 'traction'}>],\n",
       "       [<Axes: title={'center': 'mini_turbo'}>,\n",
       "        <Axes: title={'center': 'speed'}>,\n",
       "        <Axes: title={'center': 'handling'}>],\n",
       "       [<Axes: title={'center': 'invincibility'}>, <Axes: >, <Axes: >]],\n",
       "      dtype=object)"
      ]
     },
     "execution_count": 50,
     "metadata": {},
     "output_type": "execute_result"
    },
    {
     "data": {
      "image/png": "[encoded data removed]",
      "text/plain": [
       "<Figure size 640x480 with 9 Axes>"
      ]
     },
     "metadata": {},
     "output_type": "display_data"
    }
   ],
   "source": [
    "df_sorted[df_sorted['mini_turbo']==5.75].hist()"
   ]
  },
  {
   "cell_type": "code",
   "execution_count": 59,
   "id": "b6cc8a53-00a5-407c-a48a-e7cafc50ec0c",
   "metadata": {
    "tags": []
   },
   "outputs": [
    {
     "data": {
      "text/plain": [
       "Baby Mario MroB 2     32\n",
       "Baby Luigi LigB       32\n",
       "Baby Peach PchB       32\n",
       "Baby Daisy DsyB       32\n",
       "Baby Rosalina RstB    32\n",
       "Lemmy Lmy             32\n",
       "Dry Bones Krn         32\n",
       "Name: perso, dtype: int64"
      ]
     },
     "execution_count": 59,
     "metadata": {},
     "output_type": "execute_result"
    }
   ],
   "source": [
    "df_sorted[df_sorted['mini_turbo']==5.75].perso.value_counts()"
   ]
  },
  {
   "cell_type": "code",
   "execution_count": null,
   "id": "7ad4d561-19f4-4b1f-9a7b-f4802ca666a1",
   "metadata": {},
   "outputs": [],
   "source": []
  }
 ],
 "metadata": {
  "kernelspec": {
   "display_name": "Python 3 (ipykernel)",
   "language": "python",
   "name": "python3"
  },
  "language_info": {
   "codemirror_mode": {
    "name": "ipython",
    "version": 3
   },
   "file_extension": ".py",
   "mimetype": "text/x-python",
   "name": "python",
   "nbconvert_exporter": "python",
   "pygments_lexer": "ipython3",
   "version": "3.11.4"
  }
 },
 "nbformat": 4,
 "nbformat_minor": 5
}
